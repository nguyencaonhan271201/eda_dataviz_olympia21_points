{
  "nbformat": 4,
  "nbformat_minor": 0,
  "metadata": {
    "colab": {
      "name": "Data Collection.ipynb",
      "provenance": [],
      "collapsed_sections": []
    },
    "kernelspec": {
      "name": "python3",
      "display_name": "Python 3"
    },
    "language_info": {
      "name": "python"
    }
  },
  "cells": [
    {
      "cell_type": "markdown",
      "metadata": {
        "id": "6wZvrGr4-qty"
      },
      "source": [
        "## **Import Libraries**"
      ]
    },
    {
      "cell_type": "code",
      "metadata": {
        "id": "aMRpePgK-kOR"
      },
      "source": [
        "import numpy as np\n",
        "import pandas as pd\n",
        "import matplotlib.pyplot as plt\n",
        "import seaborn as sns"
      ],
      "execution_count": 2,
      "outputs": []
    },
    {
      "cell_type": "markdown",
      "metadata": {
        "id": "IJH_e69A-0zS"
      },
      "source": [
        "## **Web Scraping**"
      ]
    },
    {
      "cell_type": "markdown",
      "metadata": {
        "id": "YISfU4DvL6Bp"
      },
      "source": [
        "### **Olympia 21**"
      ]
    },
    {
      "cell_type": "code",
      "metadata": {
        "colab": {
          "base_uri": "https://localhost:8080/"
        },
        "id": "5RumnxJI-wSm",
        "outputId": "faa21eda-98d2-4461-abeb-8a14156674fe"
      },
      "source": [
        "!pip3 install beautifulsoup4\n",
        "!pip3 install requests"
      ],
      "execution_count": 3,
      "outputs": [
        {
          "output_type": "stream",
          "name": "stdout",
          "text": [
            "Requirement already satisfied: beautifulsoup4 in /usr/local/lib/python3.7/dist-packages (4.6.3)\n",
            "Requirement already satisfied: requests in /usr/local/lib/python3.7/dist-packages (2.23.0)\n",
            "Requirement already satisfied: certifi>=2017.4.17 in /usr/local/lib/python3.7/dist-packages (from requests) (2021.5.30)\n",
            "Requirement already satisfied: idna<3,>=2.5 in /usr/local/lib/python3.7/dist-packages (from requests) (2.10)\n",
            "Requirement already satisfied: chardet<4,>=3.0.2 in /usr/local/lib/python3.7/dist-packages (from requests) (3.0.4)\n",
            "Requirement already satisfied: urllib3!=1.25.0,!=1.25.1,<1.26,>=1.21.1 in /usr/local/lib/python3.7/dist-packages (from requests) (1.24.3)\n"
          ]
        }
      ]
    },
    {
      "cell_type": "code",
      "metadata": {
        "id": "bg1XKZ_x-5Rz"
      },
      "source": [
        "import sys\n",
        "import requests\n",
        "from bs4 import BeautifulSoup\n",
        "import re\n",
        "import unicodedata"
      ],
      "execution_count": 4,
      "outputs": []
    },
    {
      "cell_type": "code",
      "metadata": {
        "colab": {
          "base_uri": "https://localhost:8080/"
        },
        "id": "YBrSnzD--9qq",
        "outputId": "88da7671-cbc9-48d0-f3c3-d307634fb599"
      },
      "source": [
        "#Request content from page\n",
        "url = \"https://vi.wikipedia.org/wiki/%C4%90%C6%B0%E1%BB%9Dng_l%C3%AAn_%C4%91%E1%BB%89nh_Olympia_n%C4%83m_th%E1%BB%A9_21\"\n",
        "response = requests.get(url)\n",
        "soup = BeautifulSoup(response.content)\n",
        "soup.title"
      ],
      "execution_count": 6,
      "outputs": [
        {
          "output_type": "execute_result",
          "data": {
            "text/plain": [
              "<title>Đường lên đỉnh Olympia năm thứ 21 – Wikipedia tiếng Việt</title>"
            ]
          },
          "metadata": {},
          "execution_count": 6
        }
      ]
    },
    {
      "cell_type": "code",
      "metadata": {
        "id": "fQdvzgtR_GGY"
      },
      "source": [
        "#Extract all the tables\n",
        "html_tables = soup.find_all(name=\"table\")\n",
        "first_table = 3\n",
        "last_table = 54"
      ],
      "execution_count": 12,
      "outputs": []
    },
    {
      "cell_type": "code",
      "metadata": {
        "colab": {
          "base_uri": "https://localhost:8080/"
        },
        "id": "J4WAAydp_M2-",
        "outputId": "956a187b-c391-4bdf-a0e6-4e916da1ae31"
      },
      "source": [
        "#Initalize dictionary for data collection\n",
        "columns = [\"Tên\", \"Trường\", \"Tỉnh thành\", \"Khởi động\", \"VCNV\", \"Tăng tốc\", \"Về đích\", \"Tổng điểm\"]\n",
        "df_dict_2021 = dict.fromkeys(columns)\n",
        "for col in columns:\n",
        "  df_dict_2021[col] = []\n",
        "print(df_dict_2021)"
      ],
      "execution_count": 81,
      "outputs": [
        {
          "output_type": "stream",
          "name": "stdout",
          "text": [
            "{'Tên': [], 'Trường': [], 'Tỉnh thành': [], 'Khởi động': [], 'VCNV': [], 'Tăng tốc': [], 'Về đích': [], 'Tổng điểm': []}\n"
          ]
        }
      ]
    },
    {
      "cell_type": "code",
      "metadata": {
        "id": "XMSlnkpBAapN"
      },
      "source": [
        "for table in html_tables[first_table: last_table + 1]:\n",
        "  mark_title_row = len(table.find_all(\"tr\")[0]) == 2\n",
        "  for (index, row) in enumerate(table.find_all(\"tr\")):\n",
        "    if (mark_title_row and index > 1) or (not mark_title_row and index > 0):\n",
        "      datas = row.find_all('td')\n",
        "      \n",
        "      #Get candidate name\n",
        "      name = datas[0].text.strip()\n",
        "      name = re.sub(r'\\[.*\\]', '', name)\n",
        "      df_dict_2021['Tên'].append(name)\n",
        "\n",
        "      a_tags = datas[1].find_all('a')\n",
        "      #Get school\n",
        "      school = a_tags[0].text.strip()\n",
        "      school = re.sub(r'\\[.*\\]', '', school)\n",
        "      df_dict_2021['Trường'].append(school)\n",
        "\n",
        "      #Get province\n",
        "      if len(a_tags) == 1:\n",
        "        df_dict_2021['Tỉnh thành'].append(None)\n",
        "      else:\n",
        "        province = a_tags[1].text.strip()\n",
        "        province = re.sub(r'\\[.*\\]', '', province)\n",
        "        df_dict_2021['Tỉnh thành'].append(province)\n",
        "\n",
        "      #Get points\n",
        "      labels = ['Khởi động', 'VCNV', 'Tăng tốc', 'Về đích', 'Tổng điểm']\n",
        "      for i in range(2, 7):\n",
        "        point = datas[i].text.strip()\n",
        "        point = re.sub(r'\\[.*\\]', '', point)\n",
        "        df_dict_2021[labels[i - 2]].append(point)"
      ],
      "execution_count": 82,
      "outputs": []
    },
    {
      "cell_type": "code",
      "metadata": {
        "colab": {
          "base_uri": "https://localhost:8080/",
          "height": 424
        },
        "id": "41R5gkbKA0bf",
        "outputId": "ccb66941-0068-4cf5-bc92-a367f88158d8"
      },
      "source": [
        "df_2021 = pd.DataFrame(df_dict_2021)\n",
        "\n",
        "#Handle missing province value\n",
        "index_list = list(df_2021[df_2021[\"Tỉnh thành\"].isnull()].index)\n",
        "df_2021.iloc[119]['Trường'] = 'THPT Chuyên Lê Quý Đôn'\n",
        "df_2021.iloc[152]['Trường'] = 'THPT Chuyên Lê Quý Đôn'\n",
        "missing_provinces = ['TP. Hồ Chí Minh'] * 2 + ['Hà Nội'] * 3 + ['TP. Hồ Chí Minh'] + ['Bình Định'] + ['Hà Nội'] * 2 + ['Bình Định'] + ['Hà Nội'] * 4\n",
        "for (index, value) in enumerate(index_list):\n",
        "  df_2021.iloc[value]['Tỉnh thành'] = missing_provinces[index]\n",
        "\n",
        "df_2021"
      ],
      "execution_count": 88,
      "outputs": [
        {
          "output_type": "execute_result",
          "data": {
            "text/html": [
              "<div>\n",
              "<style scoped>\n",
              "    .dataframe tbody tr th:only-of-type {\n",
              "        vertical-align: middle;\n",
              "    }\n",
              "\n",
              "    .dataframe tbody tr th {\n",
              "        vertical-align: top;\n",
              "    }\n",
              "\n",
              "    .dataframe thead th {\n",
              "        text-align: right;\n",
              "    }\n",
              "</style>\n",
              "<table border=\"1\" class=\"dataframe\">\n",
              "  <thead>\n",
              "    <tr style=\"text-align: right;\">\n",
              "      <th></th>\n",
              "      <th>Tên</th>\n",
              "      <th>Trường</th>\n",
              "      <th>Tỉnh thành</th>\n",
              "      <th>Khởi động</th>\n",
              "      <th>VCNV</th>\n",
              "      <th>Tăng tốc</th>\n",
              "      <th>Về đích</th>\n",
              "      <th>Tổng điểm</th>\n",
              "    </tr>\n",
              "  </thead>\n",
              "  <tbody>\n",
              "    <tr>\n",
              "      <th>0</th>\n",
              "      <td>Võ Phương Nam</td>\n",
              "      <td>THPT Chuyên Bảo Lộc</td>\n",
              "      <td>Lâm Đồng</td>\n",
              "      <td>80</td>\n",
              "      <td>30</td>\n",
              "      <td>120</td>\n",
              "      <td>25</td>\n",
              "      <td>255</td>\n",
              "    </tr>\n",
              "    <tr>\n",
              "      <th>1</th>\n",
              "      <td>Nguyễn Hoàng Khánh</td>\n",
              "      <td>THPT Bạch Đằng</td>\n",
              "      <td>Quảng Ninh</td>\n",
              "      <td>110</td>\n",
              "      <td>20</td>\n",
              "      <td>100</td>\n",
              "      <td>90</td>\n",
              "      <td>320</td>\n",
              "    </tr>\n",
              "    <tr>\n",
              "      <th>2</th>\n",
              "      <td>Đoàn Đặng Phương Nam</td>\n",
              "      <td>Phổ thông Năng khiếu</td>\n",
              "      <td>TP. Hồ Chí Minh</td>\n",
              "      <td>60</td>\n",
              "      <td>20</td>\n",
              "      <td>20</td>\n",
              "      <td>-60</td>\n",
              "      <td>40</td>\n",
              "    </tr>\n",
              "    <tr>\n",
              "      <th>3</th>\n",
              "      <td>Nguyễn Quang Huy</td>\n",
              "      <td>THPT Ngô Quyền - Ba Vì</td>\n",
              "      <td>Hà Nội</td>\n",
              "      <td>100</td>\n",
              "      <td>10</td>\n",
              "      <td>110</td>\n",
              "      <td>100</td>\n",
              "      <td>320</td>\n",
              "    </tr>\n",
              "    <tr>\n",
              "      <th>4</th>\n",
              "      <td>Lê Nguyên Hạo</td>\n",
              "      <td>THPT An Ninh</td>\n",
              "      <td>Long An</td>\n",
              "      <td>70</td>\n",
              "      <td>20</td>\n",
              "      <td>50</td>\n",
              "      <td>20</td>\n",
              "      <td>160</td>\n",
              "    </tr>\n",
              "    <tr>\n",
              "      <th>...</th>\n",
              "      <td>...</td>\n",
              "      <td>...</td>\n",
              "      <td>...</td>\n",
              "      <td>...</td>\n",
              "      <td>...</td>\n",
              "      <td>...</td>\n",
              "      <td>...</td>\n",
              "      <td>...</td>\n",
              "    </tr>\n",
              "    <tr>\n",
              "      <th>203</th>\n",
              "      <td>Bùi Đức Đăng</td>\n",
              "      <td>THPT Chuyên Hạ Long</td>\n",
              "      <td>Quảng Ninh</td>\n",
              "      <td>50</td>\n",
              "      <td>10</td>\n",
              "      <td>130</td>\n",
              "      <td>40</td>\n",
              "      <td>230</td>\n",
              "    </tr>\n",
              "    <tr>\n",
              "      <th>204</th>\n",
              "      <td>Bùi Đức Đăng</td>\n",
              "      <td>THPT Chuyên Hạ Long</td>\n",
              "      <td>Quảng Ninh</td>\n",
              "      <td>60</td>\n",
              "      <td>10</td>\n",
              "      <td>80</td>\n",
              "      <td>80</td>\n",
              "      <td>230</td>\n",
              "    </tr>\n",
              "    <tr>\n",
              "      <th>205</th>\n",
              "      <td>Nguyễn Đình Duy Anh</td>\n",
              "      <td>THPT Chuyên Phan Bội Châu</td>\n",
              "      <td>Nghệ An</td>\n",
              "      <td>50</td>\n",
              "      <td>70</td>\n",
              "      <td>60</td>\n",
              "      <td>70</td>\n",
              "      <td>250</td>\n",
              "    </tr>\n",
              "    <tr>\n",
              "      <th>206</th>\n",
              "      <td>Trương Công Minh</td>\n",
              "      <td>THPT Chuyên Lê Khiết</td>\n",
              "      <td>Quảng Ngãi</td>\n",
              "      <td>60</td>\n",
              "      <td>0</td>\n",
              "      <td>120</td>\n",
              "      <td>10</td>\n",
              "      <td>190</td>\n",
              "    </tr>\n",
              "    <tr>\n",
              "      <th>207</th>\n",
              "      <td>Trần Công Minh</td>\n",
              "      <td>THPT Chuyên Hà Nội - Amsterdam</td>\n",
              "      <td>Hà Nội</td>\n",
              "      <td>80</td>\n",
              "      <td>10</td>\n",
              "      <td>110</td>\n",
              "      <td>15</td>\n",
              "      <td>215</td>\n",
              "    </tr>\n",
              "  </tbody>\n",
              "</table>\n",
              "<p>208 rows × 8 columns</p>\n",
              "</div>"
            ],
            "text/plain": [
              "                      Tên                          Trường  ... Về đích Tổng điểm\n",
              "0           Võ Phương Nam             THPT Chuyên Bảo Lộc  ...      25       255\n",
              "1      Nguyễn Hoàng Khánh                  THPT Bạch Đằng  ...      90       320\n",
              "2    Đoàn Đặng Phương Nam            Phổ thông Năng khiếu  ...     -60        40\n",
              "3        Nguyễn Quang Huy          THPT Ngô Quyền - Ba Vì  ...     100       320\n",
              "4           Lê Nguyên Hạo                    THPT An Ninh  ...      20       160\n",
              "..                    ...                             ...  ...     ...       ...\n",
              "203          Bùi Đức Đăng             THPT Chuyên Hạ Long  ...      40       230\n",
              "204          Bùi Đức Đăng             THPT Chuyên Hạ Long  ...      80       230\n",
              "205   Nguyễn Đình Duy Anh       THPT Chuyên Phan Bội Châu  ...      70       250\n",
              "206      Trương Công Minh            THPT Chuyên Lê Khiết  ...      10       190\n",
              "207        Trần Công Minh  THPT Chuyên Hà Nội - Amsterdam  ...      15       215\n",
              "\n",
              "[208 rows x 8 columns]"
            ]
          },
          "metadata": {},
          "execution_count": 88
        }
      ]
    },
    {
      "cell_type": "code",
      "metadata": {
        "colab": {
          "base_uri": "https://localhost:8080/",
          "height": 424
        },
        "id": "qWfzlh8JI2lN",
        "outputId": "f88a4dd7-fb50-4ba7-e684-1407803d2f7b"
      },
      "source": [
        "#Add match index to dataframe\n",
        "week_indexes = (([1] * 4 + [2] * 4 + [3] * 4 + ['X'] * 4) * 3 + ['X'] * 4) * 4\n",
        "month_indexes = ([1] * 16 + [2] * 16 + [3] * 16 + ['X'] * 4) * 4\n",
        "quarter_indexes = [1] * 52 + [2] * 52 + [3] * 52 + [4] * 52\n",
        "\n",
        "df_2021['Tuần'] = week_indexes\n",
        "df_2021['Tháng'] = month_indexes\n",
        "df_2021['Quý'] = quarter_indexes\n",
        "df_2021"
      ],
      "execution_count": 104,
      "outputs": [
        {
          "output_type": "execute_result",
          "data": {
            "text/html": [
              "<div>\n",
              "<style scoped>\n",
              "    .dataframe tbody tr th:only-of-type {\n",
              "        vertical-align: middle;\n",
              "    }\n",
              "\n",
              "    .dataframe tbody tr th {\n",
              "        vertical-align: top;\n",
              "    }\n",
              "\n",
              "    .dataframe thead th {\n",
              "        text-align: right;\n",
              "    }\n",
              "</style>\n",
              "<table border=\"1\" class=\"dataframe\">\n",
              "  <thead>\n",
              "    <tr style=\"text-align: right;\">\n",
              "      <th></th>\n",
              "      <th>Tên</th>\n",
              "      <th>Trường</th>\n",
              "      <th>Tỉnh thành</th>\n",
              "      <th>Khởi động</th>\n",
              "      <th>VCNV</th>\n",
              "      <th>Tăng tốc</th>\n",
              "      <th>Về đích</th>\n",
              "      <th>Tổng điểm</th>\n",
              "      <th>Tuần</th>\n",
              "      <th>Tháng</th>\n",
              "      <th>Quý</th>\n",
              "    </tr>\n",
              "  </thead>\n",
              "  <tbody>\n",
              "    <tr>\n",
              "      <th>0</th>\n",
              "      <td>Võ Phương Nam</td>\n",
              "      <td>THPT Chuyên Bảo Lộc</td>\n",
              "      <td>Lâm Đồng</td>\n",
              "      <td>80</td>\n",
              "      <td>30</td>\n",
              "      <td>120</td>\n",
              "      <td>25</td>\n",
              "      <td>255</td>\n",
              "      <td>1</td>\n",
              "      <td>1</td>\n",
              "      <td>1</td>\n",
              "    </tr>\n",
              "    <tr>\n",
              "      <th>1</th>\n",
              "      <td>Nguyễn Hoàng Khánh</td>\n",
              "      <td>THPT Bạch Đằng</td>\n",
              "      <td>Quảng Ninh</td>\n",
              "      <td>110</td>\n",
              "      <td>20</td>\n",
              "      <td>100</td>\n",
              "      <td>90</td>\n",
              "      <td>320</td>\n",
              "      <td>1</td>\n",
              "      <td>1</td>\n",
              "      <td>1</td>\n",
              "    </tr>\n",
              "    <tr>\n",
              "      <th>2</th>\n",
              "      <td>Đoàn Đặng Phương Nam</td>\n",
              "      <td>Phổ thông Năng khiếu</td>\n",
              "      <td>TP. Hồ Chí Minh</td>\n",
              "      <td>60</td>\n",
              "      <td>20</td>\n",
              "      <td>20</td>\n",
              "      <td>-60</td>\n",
              "      <td>40</td>\n",
              "      <td>1</td>\n",
              "      <td>1</td>\n",
              "      <td>1</td>\n",
              "    </tr>\n",
              "    <tr>\n",
              "      <th>3</th>\n",
              "      <td>Nguyễn Quang Huy</td>\n",
              "      <td>THPT Ngô Quyền - Ba Vì</td>\n",
              "      <td>Hà Nội</td>\n",
              "      <td>100</td>\n",
              "      <td>10</td>\n",
              "      <td>110</td>\n",
              "      <td>100</td>\n",
              "      <td>320</td>\n",
              "      <td>1</td>\n",
              "      <td>1</td>\n",
              "      <td>1</td>\n",
              "    </tr>\n",
              "    <tr>\n",
              "      <th>4</th>\n",
              "      <td>Lê Nguyên Hạo</td>\n",
              "      <td>THPT An Ninh</td>\n",
              "      <td>Long An</td>\n",
              "      <td>70</td>\n",
              "      <td>20</td>\n",
              "      <td>50</td>\n",
              "      <td>20</td>\n",
              "      <td>160</td>\n",
              "      <td>2</td>\n",
              "      <td>1</td>\n",
              "      <td>1</td>\n",
              "    </tr>\n",
              "    <tr>\n",
              "      <th>...</th>\n",
              "      <td>...</td>\n",
              "      <td>...</td>\n",
              "      <td>...</td>\n",
              "      <td>...</td>\n",
              "      <td>...</td>\n",
              "      <td>...</td>\n",
              "      <td>...</td>\n",
              "      <td>...</td>\n",
              "      <td>...</td>\n",
              "      <td>...</td>\n",
              "      <td>...</td>\n",
              "    </tr>\n",
              "    <tr>\n",
              "      <th>203</th>\n",
              "      <td>Bùi Đức Đăng</td>\n",
              "      <td>THPT Chuyên Hạ Long</td>\n",
              "      <td>Quảng Ninh</td>\n",
              "      <td>50</td>\n",
              "      <td>10</td>\n",
              "      <td>130</td>\n",
              "      <td>40</td>\n",
              "      <td>230</td>\n",
              "      <td>X</td>\n",
              "      <td>3</td>\n",
              "      <td>4</td>\n",
              "    </tr>\n",
              "    <tr>\n",
              "      <th>204</th>\n",
              "      <td>Bùi Đức Đăng</td>\n",
              "      <td>THPT Chuyên Hạ Long</td>\n",
              "      <td>Quảng Ninh</td>\n",
              "      <td>60</td>\n",
              "      <td>10</td>\n",
              "      <td>80</td>\n",
              "      <td>80</td>\n",
              "      <td>230</td>\n",
              "      <td>X</td>\n",
              "      <td>X</td>\n",
              "      <td>4</td>\n",
              "    </tr>\n",
              "    <tr>\n",
              "      <th>205</th>\n",
              "      <td>Nguyễn Đình Duy Anh</td>\n",
              "      <td>THPT Chuyên Phan Bội Châu</td>\n",
              "      <td>Nghệ An</td>\n",
              "      <td>50</td>\n",
              "      <td>70</td>\n",
              "      <td>60</td>\n",
              "      <td>70</td>\n",
              "      <td>250</td>\n",
              "      <td>X</td>\n",
              "      <td>X</td>\n",
              "      <td>4</td>\n",
              "    </tr>\n",
              "    <tr>\n",
              "      <th>206</th>\n",
              "      <td>Trương Công Minh</td>\n",
              "      <td>THPT Chuyên Lê Khiết</td>\n",
              "      <td>Quảng Ngãi</td>\n",
              "      <td>60</td>\n",
              "      <td>0</td>\n",
              "      <td>120</td>\n",
              "      <td>10</td>\n",
              "      <td>190</td>\n",
              "      <td>X</td>\n",
              "      <td>X</td>\n",
              "      <td>4</td>\n",
              "    </tr>\n",
              "    <tr>\n",
              "      <th>207</th>\n",
              "      <td>Trần Công Minh</td>\n",
              "      <td>THPT Chuyên Hà Nội - Amsterdam</td>\n",
              "      <td>Hà Nội</td>\n",
              "      <td>80</td>\n",
              "      <td>10</td>\n",
              "      <td>110</td>\n",
              "      <td>15</td>\n",
              "      <td>215</td>\n",
              "      <td>X</td>\n",
              "      <td>X</td>\n",
              "      <td>4</td>\n",
              "    </tr>\n",
              "  </tbody>\n",
              "</table>\n",
              "<p>208 rows × 11 columns</p>\n",
              "</div>"
            ],
            "text/plain": [
              "                      Tên                          Trường  ... Tháng Quý\n",
              "0           Võ Phương Nam             THPT Chuyên Bảo Lộc  ...     1   1\n",
              "1      Nguyễn Hoàng Khánh                  THPT Bạch Đằng  ...     1   1\n",
              "2    Đoàn Đặng Phương Nam            Phổ thông Năng khiếu  ...     1   1\n",
              "3        Nguyễn Quang Huy          THPT Ngô Quyền - Ba Vì  ...     1   1\n",
              "4           Lê Nguyên Hạo                    THPT An Ninh  ...     1   1\n",
              "..                    ...                             ...  ...   ...  ..\n",
              "203          Bùi Đức Đăng             THPT Chuyên Hạ Long  ...     3   4\n",
              "204          Bùi Đức Đăng             THPT Chuyên Hạ Long  ...     X   4\n",
              "205   Nguyễn Đình Duy Anh       THPT Chuyên Phan Bội Châu  ...     X   4\n",
              "206      Trương Công Minh            THPT Chuyên Lê Khiết  ...     X   4\n",
              "207        Trần Công Minh  THPT Chuyên Hà Nội - Amsterdam  ...     X   4\n",
              "\n",
              "[208 rows x 11 columns]"
            ]
          },
          "metadata": {},
          "execution_count": 104
        }
      ]
    },
    {
      "cell_type": "markdown",
      "metadata": {
        "id": "KbjaKsZDMN2I"
      },
      "source": [
        "### **Olympia 20**"
      ]
    },
    {
      "cell_type": "code",
      "metadata": {
        "colab": {
          "base_uri": "https://localhost:8080/"
        },
        "id": "A1R1bYmfMP05",
        "outputId": "8b0de54a-351c-416e-a8cb-5010331c9d08"
      },
      "source": [
        "#Request content from page\n",
        "url = \"https://vi.wikipedia.org/wiki/%C4%90%C6%B0%E1%BB%9Dng_l%C3%AAn_%C4%91%E1%BB%89nh_Olympia_n%C4%83m_th%E1%BB%A9_20\"\n",
        "response = requests.get(url)\n",
        "soup = BeautifulSoup(response.content)\n",
        "soup.title"
      ],
      "execution_count": 108,
      "outputs": [
        {
          "output_type": "execute_result",
          "data": {
            "text/plain": [
              "<title>Đường lên đỉnh Olympia năm thứ 20 – Wikipedia tiếng Việt</title>"
            ]
          },
          "metadata": {},
          "execution_count": 108
        }
      ]
    },
    {
      "cell_type": "code",
      "metadata": {
        "id": "DSqesdK7MZGv"
      },
      "source": [
        "#Extract all the tables\n",
        "html_tables = soup.find_all(name=\"table\")"
      ],
      "execution_count": 111,
      "outputs": []
    },
    {
      "cell_type": "code",
      "metadata": {
        "colab": {
          "base_uri": "https://localhost:8080/"
        },
        "id": "JmbP41D9Mcfx",
        "outputId": "030e091c-f23a-45a1-b9ef-84785a791d21"
      },
      "source": [
        "#Initalize dictionary for data collection\n",
        "columns = [\"Tên\", \"Trường\", \"Tỉnh thành\", \"Khởi động\", \"VCNV\", \"Tăng tốc\", \"Về đích\", \"Tổng điểm\"]\n",
        "df_dict_2020 = dict.fromkeys(columns)\n",
        "for col in columns:\n",
        "  df_dict_2020[col] = []\n",
        "print(df_dict_2020)"
      ],
      "execution_count": 127,
      "outputs": [
        {
          "output_type": "stream",
          "name": "stdout",
          "text": [
            "{'Tên': [], 'Trường': [], 'Tỉnh thành': [], 'Khởi động': [], 'VCNV': [], 'Tăng tốc': [], 'Về đích': [], 'Tổng điểm': []}\n"
          ]
        }
      ]
    },
    {
      "cell_type": "code",
      "metadata": {
        "id": "CYilMIuBMnMd"
      },
      "source": [
        "for table in html_tables[first_table: last_table + 1]:\n",
        "  for (index, row) in enumerate(table.find_all(\"tr\")):\n",
        "    if index > 0:\n",
        "      datas = row.find_all('td')\n",
        "      \n",
        "      #Get candidate name\n",
        "      name = datas[0].text.strip()\n",
        "      name = re.sub(r'\\[.*\\]', '', name)\n",
        "      df_dict_2020['Tên'].append(name)\n",
        "\n",
        "      a_tags = datas[1].find_all('a')\n",
        "      #Get school\n",
        "      school = a_tags[0].text.strip()\n",
        "      school = re.sub(r'\\[.*\\]', '', school)\n",
        "      df_dict_2020['Trường'].append(school)\n",
        "\n",
        "      #Get province\n",
        "      if len(a_tags) == 1:\n",
        "        df_dict_2020['Tỉnh thành'].append(None)\n",
        "      else:\n",
        "        province = a_tags[1].text.strip()\n",
        "        province = re.sub(r'\\[.*\\]', '', province)\n",
        "        df_dict_2020['Tỉnh thành'].append(province)\n",
        "\n",
        "      #Get points\n",
        "      labels = ['Khởi động', 'VCNV', 'Tăng tốc', 'Về đích', 'Tổng điểm']\n",
        "      for i in range(2, 7):\n",
        "        point = datas[i].text.strip()\n",
        "        point = re.sub(r'\\[.*\\]', '', point)\n",
        "        df_dict_2020[labels[i - 2]].append(point)"
      ],
      "execution_count": 128,
      "outputs": []
    },
    {
      "cell_type": "code",
      "metadata": {
        "colab": {
          "base_uri": "https://localhost:8080/",
          "height": 476
        },
        "id": "-4X9xfDVM1vT",
        "outputId": "05e247f8-bf70-4f84-c6d9-bce77249327d"
      },
      "source": [
        "df_2020 = pd.DataFrame(df_dict_2020)\n",
        "df_2020['Tuần'] = week_indexes\n",
        "df_2020['Tháng'] = month_indexes\n",
        "df_2020['Quý'] = quarter_indexes\n",
        "df_2020"
      ],
      "execution_count": 131,
      "outputs": [
        {
          "output_type": "execute_result",
          "data": {
            "text/html": [
              "<div>\n",
              "<style scoped>\n",
              "    .dataframe tbody tr th:only-of-type {\n",
              "        vertical-align: middle;\n",
              "    }\n",
              "\n",
              "    .dataframe tbody tr th {\n",
              "        vertical-align: top;\n",
              "    }\n",
              "\n",
              "    .dataframe thead th {\n",
              "        text-align: right;\n",
              "    }\n",
              "</style>\n",
              "<table border=\"1\" class=\"dataframe\">\n",
              "  <thead>\n",
              "    <tr style=\"text-align: right;\">\n",
              "      <th></th>\n",
              "      <th>Tên</th>\n",
              "      <th>Trường</th>\n",
              "      <th>Tỉnh thành</th>\n",
              "      <th>Khởi động</th>\n",
              "      <th>VCNV</th>\n",
              "      <th>Tăng tốc</th>\n",
              "      <th>Về đích</th>\n",
              "      <th>Tổng điểm</th>\n",
              "      <th>Tuần</th>\n",
              "      <th>Tháng</th>\n",
              "      <th>Quý</th>\n",
              "    </tr>\n",
              "  </thead>\n",
              "  <tbody>\n",
              "    <tr>\n",
              "      <th>0</th>\n",
              "      <td>Nguyễn Huy</td>\n",
              "      <td>THPT Chuyên Huỳnh Mẫn Đạt</td>\n",
              "      <td>Kiên Giang</td>\n",
              "      <td>50</td>\n",
              "      <td>10</td>\n",
              "      <td>140</td>\n",
              "      <td>10</td>\n",
              "      <td>210</td>\n",
              "      <td>1</td>\n",
              "      <td>1</td>\n",
              "      <td>1</td>\n",
              "    </tr>\n",
              "    <tr>\n",
              "      <th>1</th>\n",
              "      <td>Trần Phạm Anh Tuấn</td>\n",
              "      <td>THPT Lương Thế Vinh</td>\n",
              "      <td>Quảng Bình</td>\n",
              "      <td>50</td>\n",
              "      <td>90</td>\n",
              "      <td>90</td>\n",
              "      <td>5</td>\n",
              "      <td>235</td>\n",
              "      <td>1</td>\n",
              "      <td>1</td>\n",
              "      <td>1</td>\n",
              "    </tr>\n",
              "    <tr>\n",
              "      <th>2</th>\n",
              "      <td>Nguyễn Xuân Huy</td>\n",
              "      <td>THPT Thăng Long</td>\n",
              "      <td>Hà Nội</td>\n",
              "      <td>70</td>\n",
              "      <td>10</td>\n",
              "      <td>80</td>\n",
              "      <td>90</td>\n",
              "      <td>250</td>\n",
              "      <td>1</td>\n",
              "      <td>1</td>\n",
              "      <td>1</td>\n",
              "    </tr>\n",
              "    <tr>\n",
              "      <th>3</th>\n",
              "      <td>Nguyễn Tuấn Anh</td>\n",
              "      <td>THPT Triệu Quang Phục</td>\n",
              "      <td>Hưng Yên</td>\n",
              "      <td>80</td>\n",
              "      <td>10</td>\n",
              "      <td>70</td>\n",
              "      <td>-60</td>\n",
              "      <td>100</td>\n",
              "      <td>1</td>\n",
              "      <td>1</td>\n",
              "      <td>1</td>\n",
              "    </tr>\n",
              "    <tr>\n",
              "      <th>4</th>\n",
              "      <td>Hoàng Anh Quân</td>\n",
              "      <td>THPT Nguyễn Huệ</td>\n",
              "      <td>Thừa Thiên - Huế</td>\n",
              "      <td>90</td>\n",
              "      <td>10</td>\n",
              "      <td>150</td>\n",
              "      <td>110</td>\n",
              "      <td>360</td>\n",
              "      <td>2</td>\n",
              "      <td>1</td>\n",
              "      <td>1</td>\n",
              "    </tr>\n",
              "    <tr>\n",
              "      <th>...</th>\n",
              "      <td>...</td>\n",
              "      <td>...</td>\n",
              "      <td>...</td>\n",
              "      <td>...</td>\n",
              "      <td>...</td>\n",
              "      <td>...</td>\n",
              "      <td>...</td>\n",
              "      <td>...</td>\n",
              "      <td>...</td>\n",
              "      <td>...</td>\n",
              "      <td>...</td>\n",
              "    </tr>\n",
              "    <tr>\n",
              "      <th>203</th>\n",
              "      <td>Bùi Nữ Minh Ngọc</td>\n",
              "      <td>THPT Chuyên Nguyễn Tất Thành</td>\n",
              "      <td>Kon Tum</td>\n",
              "      <td>20</td>\n",
              "      <td>0</td>\n",
              "      <td>20</td>\n",
              "      <td>30</td>\n",
              "      <td>70</td>\n",
              "      <td>X</td>\n",
              "      <td>3</td>\n",
              "      <td>4</td>\n",
              "    </tr>\n",
              "    <tr>\n",
              "      <th>204</th>\n",
              "      <td>Tạ Quang Hưng</td>\n",
              "      <td>THPT Chuyên Bắc Ninh</td>\n",
              "      <td>Bắc Ninh</td>\n",
              "      <td>80</td>\n",
              "      <td>20</td>\n",
              "      <td>40</td>\n",
              "      <td>70</td>\n",
              "      <td>210</td>\n",
              "      <td>X</td>\n",
              "      <td>X</td>\n",
              "      <td>4</td>\n",
              "    </tr>\n",
              "    <tr>\n",
              "      <th>205</th>\n",
              "      <td>Lưu Đào Dũng Trí</td>\n",
              "      <td>THPT Chuyên Đại học Sư phạm Hà Nội</td>\n",
              "      <td>Hà Nội</td>\n",
              "      <td>70</td>\n",
              "      <td>60</td>\n",
              "      <td>90</td>\n",
              "      <td>60</td>\n",
              "      <td>280</td>\n",
              "      <td>X</td>\n",
              "      <td>X</td>\n",
              "      <td>4</td>\n",
              "    </tr>\n",
              "    <tr>\n",
              "      <th>206</th>\n",
              "      <td>Lê Minh</td>\n",
              "      <td>THPT Sơn Tây</td>\n",
              "      <td>Hà Nội</td>\n",
              "      <td>50</td>\n",
              "      <td>10</td>\n",
              "      <td>80</td>\n",
              "      <td>-40</td>\n",
              "      <td>100</td>\n",
              "      <td>X</td>\n",
              "      <td>X</td>\n",
              "      <td>4</td>\n",
              "    </tr>\n",
              "    <tr>\n",
              "      <th>207</th>\n",
              "      <td>Nguyễn Trọng Đăng Dương</td>\n",
              "      <td>TH, THCS &amp; THPT Thực nghiệm Khoa học Giáo dục</td>\n",
              "      <td>Hà Nội</td>\n",
              "      <td>20</td>\n",
              "      <td>10</td>\n",
              "      <td>70</td>\n",
              "      <td>45</td>\n",
              "      <td>145</td>\n",
              "      <td>X</td>\n",
              "      <td>X</td>\n",
              "      <td>4</td>\n",
              "    </tr>\n",
              "  </tbody>\n",
              "</table>\n",
              "<p>208 rows × 11 columns</p>\n",
              "</div>"
            ],
            "text/plain": [
              "                         Tên  ... Quý\n",
              "0                 Nguyễn Huy  ...   1\n",
              "1         Trần Phạm Anh Tuấn  ...   1\n",
              "2            Nguyễn Xuân Huy  ...   1\n",
              "3            Nguyễn Tuấn Anh  ...   1\n",
              "4             Hoàng Anh Quân  ...   1\n",
              "..                       ...  ...  ..\n",
              "203         Bùi Nữ Minh Ngọc  ...   4\n",
              "204            Tạ Quang Hưng  ...   4\n",
              "205         Lưu Đào Dũng Trí  ...   4\n",
              "206                  Lê Minh  ...   4\n",
              "207  Nguyễn Trọng Đăng Dương  ...   4\n",
              "\n",
              "[208 rows x 11 columns]"
            ]
          },
          "metadata": {},
          "execution_count": 131
        }
      ]
    },
    {
      "cell_type": "markdown",
      "metadata": {
        "id": "T4F71AqpNoPF"
      },
      "source": [
        "### **Olympia 19**"
      ]
    },
    {
      "cell_type": "code",
      "metadata": {
        "colab": {
          "base_uri": "https://localhost:8080/"
        },
        "id": "o3Wlcpb-Nqjo",
        "outputId": "ee21bf8c-abc5-4319-e5d3-456a211d61ff"
      },
      "source": [
        "#Request content from page\n",
        "url = \"https://vi.wikipedia.org/wiki/%C4%90%C6%B0%E1%BB%9Dng_l%C3%AAn_%C4%91%E1%BB%89nh_Olympia_n%C4%83m_th%E1%BB%A9_19\"\n",
        "response = requests.get(url)\n",
        "soup = BeautifulSoup(response.content)\n",
        "soup.title"
      ],
      "execution_count": 132,
      "outputs": [
        {
          "output_type": "execute_result",
          "data": {
            "text/plain": [
              "<title>Đường lên đỉnh Olympia năm thứ 19 – Wikipedia tiếng Việt</title>"
            ]
          },
          "metadata": {},
          "execution_count": 132
        }
      ]
    },
    {
      "cell_type": "code",
      "metadata": {
        "id": "lCzoVHSFNxF8"
      },
      "source": [
        "#Extract all the tables\n",
        "html_tables = soup.find_all(name=\"table\")"
      ],
      "execution_count": 135,
      "outputs": []
    },
    {
      "cell_type": "code",
      "metadata": {
        "colab": {
          "base_uri": "https://localhost:8080/"
        },
        "id": "UTYhSun2NzKa",
        "outputId": "191ebb14-28d7-48cb-fc08-1c6c9e58c5d1"
      },
      "source": [
        "#Initalize dictionary for data collection\n",
        "columns = [\"Tên\", \"Trường\", \"Tỉnh thành\", \"Khởi động\", \"VCNV\", \"Tăng tốc\", \"Về đích\", \"Tổng điểm\"]\n",
        "df_dict_2019 = dict.fromkeys(columns)\n",
        "for col in columns:\n",
        "  df_dict_2019[col] = []\n",
        "print(df_dict_2019)"
      ],
      "execution_count": 136,
      "outputs": [
        {
          "output_type": "stream",
          "name": "stdout",
          "text": [
            "{'Tên': [], 'Trường': [], 'Tỉnh thành': [], 'Khởi động': [], 'VCNV': [], 'Tăng tốc': [], 'Về đích': [], 'Tổng điểm': []}\n"
          ]
        }
      ]
    },
    {
      "cell_type": "code",
      "metadata": {
        "id": "ZIg_l6q4N7Hd"
      },
      "source": [
        "for table in html_tables[first_table: last_table + 1]:\n",
        "  for (index, row) in enumerate(table.find_all(\"tr\")):\n",
        "    if index > 0:\n",
        "      datas = row.find_all('td')\n",
        "      \n",
        "      #Get candidate name\n",
        "      name = datas[0].text.strip()\n",
        "      name = re.sub(r'\\[.*\\]', '', name)\n",
        "      df_dict_2019['Tên'].append(name)\n",
        "\n",
        "      a_tags = datas[1].find_all('a')\n",
        "      #Get school\n",
        "      school = a_tags[0].text.strip()\n",
        "      school = re.sub(r'\\[.*\\]', '', school)\n",
        "      df_dict_2019['Trường'].append(school)\n",
        "\n",
        "      #Get province\n",
        "      if len(a_tags) == 1:\n",
        "        df_dict_2019['Tỉnh thành'].append(None)\n",
        "      else:\n",
        "        province = a_tags[1].text.strip()\n",
        "        province = re.sub(r'\\[.*\\]', '', province)\n",
        "        df_dict_2019['Tỉnh thành'].append(province)\n",
        "\n",
        "      #Get points\n",
        "      labels = ['Khởi động', 'VCNV', 'Tăng tốc', 'Về đích', 'Tổng điểm']\n",
        "      for i in range(2, 7):\n",
        "        point = datas[i].text.strip()\n",
        "        point = re.sub(r'\\[.*\\]', '', point)\n",
        "        df_dict_2019[labels[i - 2]].append(point)"
      ],
      "execution_count": 137,
      "outputs": []
    },
    {
      "cell_type": "code",
      "metadata": {
        "colab": {
          "base_uri": "https://localhost:8080/",
          "height": 424
        },
        "id": "c_VPbMyvN_SV",
        "outputId": "23590755-9faa-4067-d0a1-714fa073cd5c"
      },
      "source": [
        "df_2019 = pd.DataFrame(df_dict_2019)\n",
        "df_2019['Tuần'] = week_indexes\n",
        "df_2019['Tháng'] = month_indexes\n",
        "df_2019['Quý'] = quarter_indexes\n",
        "df_2019"
      ],
      "execution_count": 140,
      "outputs": [
        {
          "output_type": "execute_result",
          "data": {
            "text/html": [
              "<div>\n",
              "<style scoped>\n",
              "    .dataframe tbody tr th:only-of-type {\n",
              "        vertical-align: middle;\n",
              "    }\n",
              "\n",
              "    .dataframe tbody tr th {\n",
              "        vertical-align: top;\n",
              "    }\n",
              "\n",
              "    .dataframe thead th {\n",
              "        text-align: right;\n",
              "    }\n",
              "</style>\n",
              "<table border=\"1\" class=\"dataframe\">\n",
              "  <thead>\n",
              "    <tr style=\"text-align: right;\">\n",
              "      <th></th>\n",
              "      <th>Tên</th>\n",
              "      <th>Trường</th>\n",
              "      <th>Tỉnh thành</th>\n",
              "      <th>Khởi động</th>\n",
              "      <th>VCNV</th>\n",
              "      <th>Tăng tốc</th>\n",
              "      <th>Về đích</th>\n",
              "      <th>Tổng điểm</th>\n",
              "      <th>Tuần</th>\n",
              "      <th>Tháng</th>\n",
              "      <th>Quý</th>\n",
              "    </tr>\n",
              "  </thead>\n",
              "  <tbody>\n",
              "    <tr>\n",
              "      <th>0</th>\n",
              "      <td>Cấn Thái Hoàng</td>\n",
              "      <td>THPT Thạch Thất</td>\n",
              "      <td>Hà Nội</td>\n",
              "      <td>60</td>\n",
              "      <td>50</td>\n",
              "      <td>160</td>\n",
              "      <td>20</td>\n",
              "      <td>290</td>\n",
              "      <td>1</td>\n",
              "      <td>1</td>\n",
              "      <td>1</td>\n",
              "    </tr>\n",
              "    <tr>\n",
              "      <th>1</th>\n",
              "      <td>Vũ Thành Vinh</td>\n",
              "      <td>THPT Hữu Lũng</td>\n",
              "      <td>Lạng Sơn</td>\n",
              "      <td>50</td>\n",
              "      <td>0</td>\n",
              "      <td>80</td>\n",
              "      <td>0</td>\n",
              "      <td>130</td>\n",
              "      <td>1</td>\n",
              "      <td>1</td>\n",
              "      <td>1</td>\n",
              "    </tr>\n",
              "    <tr>\n",
              "      <th>2</th>\n",
              "      <td>Lê Đức Thành</td>\n",
              "      <td>THPT Nguyễn Thị Minh Khai</td>\n",
              "      <td>Hà Tĩnh</td>\n",
              "      <td>80</td>\n",
              "      <td>0</td>\n",
              "      <td>70</td>\n",
              "      <td>-20</td>\n",
              "      <td>130</td>\n",
              "      <td>1</td>\n",
              "      <td>1</td>\n",
              "      <td>1</td>\n",
              "    </tr>\n",
              "    <tr>\n",
              "      <th>3</th>\n",
              "      <td>Đinh Đoàn Xuân Phương</td>\n",
              "      <td>THPT Chuyên Võ Nguyên Giáp</td>\n",
              "      <td>Quảng Bình</td>\n",
              "      <td>80</td>\n",
              "      <td>0</td>\n",
              "      <td>20</td>\n",
              "      <td>30</td>\n",
              "      <td>130</td>\n",
              "      <td>1</td>\n",
              "      <td>1</td>\n",
              "      <td>1</td>\n",
              "    </tr>\n",
              "    <tr>\n",
              "      <th>4</th>\n",
              "      <td>Bùi Hậu Giang</td>\n",
              "      <td>THPT Chuyên Lê Quý Đôn</td>\n",
              "      <td>Đà Nẵng</td>\n",
              "      <td>60</td>\n",
              "      <td>90</td>\n",
              "      <td>120</td>\n",
              "      <td>60</td>\n",
              "      <td>330</td>\n",
              "      <td>2</td>\n",
              "      <td>1</td>\n",
              "      <td>1</td>\n",
              "    </tr>\n",
              "    <tr>\n",
              "      <th>...</th>\n",
              "      <td>...</td>\n",
              "      <td>...</td>\n",
              "      <td>...</td>\n",
              "      <td>...</td>\n",
              "      <td>...</td>\n",
              "      <td>...</td>\n",
              "      <td>...</td>\n",
              "      <td>...</td>\n",
              "      <td>...</td>\n",
              "      <td>...</td>\n",
              "      <td>...</td>\n",
              "    </tr>\n",
              "    <tr>\n",
              "      <th>203</th>\n",
              "      <td>Trần Lệ Mỹ</td>\n",
              "      <td>THPT Yên Lập</td>\n",
              "      <td>Phú Thọ</td>\n",
              "      <td>30</td>\n",
              "      <td>10</td>\n",
              "      <td>40</td>\n",
              "      <td>-70</td>\n",
              "      <td>10</td>\n",
              "      <td>X</td>\n",
              "      <td>3</td>\n",
              "      <td>4</td>\n",
              "    </tr>\n",
              "    <tr>\n",
              "      <th>204</th>\n",
              "      <td>Nguyễn Đức Hiếu</td>\n",
              "      <td>THPT Chuyên Thái Bình</td>\n",
              "      <td>Thái Bình</td>\n",
              "      <td>40</td>\n",
              "      <td>10</td>\n",
              "      <td>50</td>\n",
              "      <td>-55</td>\n",
              "      <td>45</td>\n",
              "      <td>X</td>\n",
              "      <td>X</td>\n",
              "      <td>4</td>\n",
              "    </tr>\n",
              "    <tr>\n",
              "      <th>205</th>\n",
              "      <td>Đoàn Nam Thắng</td>\n",
              "      <td>THPT Chuyên Nguyễn Du</td>\n",
              "      <td>Đắk Lắk</td>\n",
              "      <td>40</td>\n",
              "      <td>70</td>\n",
              "      <td>70</td>\n",
              "      <td>30</td>\n",
              "      <td>210</td>\n",
              "      <td>X</td>\n",
              "      <td>X</td>\n",
              "      <td>4</td>\n",
              "    </tr>\n",
              "    <tr>\n",
              "      <th>206</th>\n",
              "      <td>Vũ Công Minh</td>\n",
              "      <td>THPT Quang Trung</td>\n",
              "      <td>Hải Dương</td>\n",
              "      <td>40</td>\n",
              "      <td>10</td>\n",
              "      <td>90</td>\n",
              "      <td>20</td>\n",
              "      <td>160</td>\n",
              "      <td>X</td>\n",
              "      <td>X</td>\n",
              "      <td>4</td>\n",
              "    </tr>\n",
              "    <tr>\n",
              "      <th>207</th>\n",
              "      <td>Khưu Minh Khoa</td>\n",
              "      <td>THPT Bùi Thị Xuân</td>\n",
              "      <td>TP. Hồ Chí Minh</td>\n",
              "      <td>40</td>\n",
              "      <td>10</td>\n",
              "      <td>70</td>\n",
              "      <td>60</td>\n",
              "      <td>180</td>\n",
              "      <td>X</td>\n",
              "      <td>X</td>\n",
              "      <td>4</td>\n",
              "    </tr>\n",
              "  </tbody>\n",
              "</table>\n",
              "<p>208 rows × 11 columns</p>\n",
              "</div>"
            ],
            "text/plain": [
              "                       Tên                      Trường  ... Tháng Quý\n",
              "0           Cấn Thái Hoàng             THPT Thạch Thất  ...     1   1\n",
              "1            Vũ Thành Vinh               THPT Hữu Lũng  ...     1   1\n",
              "2             Lê Đức Thành   THPT Nguyễn Thị Minh Khai  ...     1   1\n",
              "3    Đinh Đoàn Xuân Phương  THPT Chuyên Võ Nguyên Giáp  ...     1   1\n",
              "4            Bùi Hậu Giang      THPT Chuyên Lê Quý Đôn  ...     1   1\n",
              "..                     ...                         ...  ...   ...  ..\n",
              "203             Trần Lệ Mỹ                THPT Yên Lập  ...     3   4\n",
              "204        Nguyễn Đức Hiếu       THPT Chuyên Thái Bình  ...     X   4\n",
              "205         Đoàn Nam Thắng       THPT Chuyên Nguyễn Du  ...     X   4\n",
              "206           Vũ Công Minh            THPT Quang Trung  ...     X   4\n",
              "207         Khưu Minh Khoa           THPT Bùi Thị Xuân  ...     X   4\n",
              "\n",
              "[208 rows x 11 columns]"
            ]
          },
          "metadata": {},
          "execution_count": 140
        }
      ]
    },
    {
      "cell_type": "markdown",
      "metadata": {
        "id": "10qbuS7cOX2o"
      },
      "source": [
        "### **Export as .csv**"
      ]
    },
    {
      "cell_type": "code",
      "metadata": {
        "id": "r6HThINNOXYZ"
      },
      "source": [
        "df_2021.to_csv('./o21.csv')\n",
        "df_2020.to_csv('./o20.csv')\n",
        "df_2019.to_csv('./o19.csv')"
      ],
      "execution_count": 141,
      "outputs": []
    }
  ]
}